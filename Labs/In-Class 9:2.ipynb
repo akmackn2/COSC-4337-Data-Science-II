{
 "cells": [
  {
   "cell_type": "code",
   "execution_count": 1,
   "id": "98da0c99-5629-47ba-9a39-437bd0b1d3a6",
   "metadata": {},
   "outputs": [],
   "source": [
    "import numpy as np"
   ]
  },
  {
   "cell_type": "code",
   "execution_count": 2,
   "id": "0fa77d2c-ddac-456e-af47-95d928b49d1a",
   "metadata": {},
   "outputs": [],
   "source": [
    "import matplotlib.pyplot as plt"
   ]
  },
  {
   "cell_type": "code",
   "execution_count": 3,
   "id": "e6134c71-a1dc-4f48-a671-592f021f263f",
   "metadata": {},
   "outputs": [],
   "source": [
    "X = np.array([[0, 0],[0, 1],[1, 0],[1, 1]], dtype=float)\n",
    "y = np.array([[0], [1], [1], [0]], dtype=float)"
   ]
  },
  {
   "cell_type": "code",
   "execution_count": 4,
   "id": "1a35d080-6da2-4f7b-9592-e20be21f13d8",
   "metadata": {},
   "outputs": [],
   "source": [
    "def sigmoid(x):\n",
    "    return 1.0 / (1.0 + np.exp(-x))"
   ]
  },
  {
   "cell_type": "code",
   "execution_count": 5,
   "id": "bc80c61f-bc8b-4288-bfde-5de049a6dcb1",
   "metadata": {},
   "outputs": [],
   "source": [
    "def sigmoid_derivative(a):\n",
    "    return a * (1.0 - a)"
   ]
  },
  {
   "cell_type": "code",
   "execution_count": 7,
   "id": "d971a23b-321c-46ca-b367-2ddd27a27e01",
   "metadata": {},
   "outputs": [],
   "source": [
    "np.random.seed(42)"
   ]
  },
  {
   "cell_type": "code",
   "execution_count": 8,
   "id": "0096999b-c1b4-4601-8a5c-a89dfdb1aa17",
   "metadata": {},
   "outputs": [],
   "source": [
    "input_neurons  = 2\n",
    "hidden_neurons = 2\n",
    "output_neurons = 1"
   ]
  },
  {
   "cell_type": "code",
   "execution_count": 9,
   "id": "255e359c-a9e0-47ad-a178-44d49cb1b5a9",
   "metadata": {},
   "outputs": [],
   "source": [
    "wh   = np.random.uniform(low=-1.0, high=1.0, size=(input_neurons,  hidden_neurons))\n",
    "bh   = np.random.uniform(low=-1.0, high=1.0, size=(1, hidden_neurons))\n",
    "wout = np.random.uniform(low=-1.0, high=1.0, size=(hidden_neurons, output_neurons))\n",
    "bout = np.random.uniform(low=-1.0, high=1.0, size=(1, output_neurons))"
   ]
  },
  {
   "cell_type": "code",
   "execution_count": 10,
   "id": "dbc8572f-bd92-48cb-af7f-8ed64143c9f9",
   "metadata": {},
   "outputs": [],
   "source": [
    "lr = 0.1"
   ]
  },
  {
   "cell_type": "code",
   "execution_count": 11,
   "id": "2de708fb-bfbc-418d-a381-4940666e28b7",
   "metadata": {},
   "outputs": [],
   "source": [
    "epochs = 10_000"
   ]
  },
  {
   "cell_type": "code",
   "execution_count": 12,
   "id": "adf62512-b898-487d-99a6-0eaebee508a6",
   "metadata": {},
   "outputs": [
    {
     "name": "stdout",
     "output_type": "stream",
     "text": [
      "Epoch     0 | Loss: 0.254485\n",
      "Epoch  1000 | Loss: 0.250004\n",
      "Epoch  2000 | Loss: 0.249309\n",
      "Epoch  3000 | Loss: 0.242221\n",
      "Epoch  4000 | Loss: 0.173945\n",
      "Epoch  5000 | Loss: 0.048031\n",
      "Epoch  6000 | Loss: 0.016498\n",
      "Epoch  7000 | Loss: 0.008891\n",
      "Epoch  8000 | Loss: 0.005874\n",
      "Epoch  9000 | Loss: 0.004318\n"
     ]
    }
   ],
   "source": [
    "for epoch in range(epochs):\n",
    "    hidden_input  = np.dot(X, wh) + bh\n",
    "    hidden_output = sigmoid(hidden_input)\n",
    "    final_input   = np.dot(hidden_output, wout) + bout\n",
    "    final_output  = sigmoid(final_input)\n",
    "\n",
    "    error = y - final_output\n",
    "    loss = np.mean(error ** 2)\n",
    "\n",
    "    d_output = error * sigmoid_derivative(final_output)\n",
    "    error_hidden = np.dot(d_output, wout.T)\n",
    "    d_hidden = error_hidden * sigmoid_derivative(hidden_output)\n",
    "\n",
    "    wout += np.dot(hidden_output.T, d_output) * lr\n",
    "    bout += np.sum(d_output, axis=0, keepdims=True) * lr\n",
    "    wh   += np.dot(X.T, d_hidden) * lr\n",
    "    bh   += np.sum(d_hidden, axis=0, keepdims=True) * lr\n",
    "\n",
    "    if epoch % 1000 == 0:\n",
    "        print(f\"Epoch {epoch:5d} | Loss: {loss:.6f}\")"
   ]
  },
  {
   "cell_type": "code",
   "execution_count": 16,
   "id": "cc09403d-f7f6-4841-bea7-7c5e630efb36",
   "metadata": {},
   "outputs": [
    {
     "name": "stdout",
     "output_type": "stream",
     "text": [
      "\n",
      "Trained outputs (probabilities):\n",
      "[[0.0616]\n",
      " [0.9442]\n",
      " [0.9442]\n",
      " [0.0593]]\n"
     ]
    }
   ],
   "source": [
    "print(\"\\nTrained outputs (probabilities):\")\n",
    "hidden_output = sigmoid(np.dot(X, wh) + bh)\n",
    "final_output  = sigmoid(np.dot(hidden_output, wout) + bout)\n",
    "print(final_output.round(4))"
   ]
  },
  {
   "cell_type": "code",
   "execution_count": 17,
   "id": "586d5264-359d-47ef-afa7-00ff78133550",
   "metadata": {},
   "outputs": [
    {
     "name": "stdout",
     "output_type": "stream",
     "text": [
      "\n",
      "Predictions (threshold 0.5):\n",
      "[0 1 1 0]\n"
     ]
    }
   ],
   "source": [
    "print(\"\\nPredictions (threshold 0.5):\")\n",
    "print((final_output > 0.5).astype(int).ravel())"
   ]
  },
  {
   "cell_type": "code",
   "execution_count": 18,
   "id": "ff34b2dd-1d3e-404d-aff0-92dab68b4d47",
   "metadata": {},
   "outputs": [],
   "source": [
    "xx, yy = np.meshgrid(np.linspace(-0.5, 1.5, 200),\n",
    "                     np.linspace(-0.5, 1.5, 200))\n",
    "grid = np.c_[xx.ravel(), yy.ravel()]"
   ]
  },
  {
   "cell_type": "code",
   "execution_count": 19,
   "id": "6ea0898f-b120-4947-b51a-b559f914948a",
   "metadata": {},
   "outputs": [],
   "source": [
    "hidden_grid = sigmoid(np.dot(grid, wh) + bh)\n",
    "output_grid = sigmoid(np.dot(hidden_grid, wout) + bout).reshape(xx.shape)"
   ]
  },
  {
   "cell_type": "code",
   "execution_count": 20,
   "id": "4c974443-aa25-4be9-bcaa-dd64d0bfa559",
   "metadata": {},
   "outputs": [
    {
     "data": {
      "image/png": "[encoded data removed]",
      "text/plain": [
       "<Figure size 600x500 with 1 Axes>"
      ]
     },
     "metadata": {},
     "output_type": "display_data"
    }
   ],
   "source": [
    "plt.figure(figsize=(6, 5))\n",
    "plt.contourf(xx, yy, output_grid, levels=[-0.1, 0.5, 1.1],\n",
    "             colors=['lightcoral', 'lightgreen'], alpha=0.6)\n",
    "plt.scatter(X[:, 0], X[:, 1], c=y.flatten(), s=200, edgecolors='k', cmap=plt.cm.coolwarm)\n",
    "plt.title(\"XOR Neural Network Decision Boundary (2-2-1, Sigmoid)\")\n",
    "plt.xlabel(\"Input 1\")\n",
    "plt.ylabel(\"Input 2\")\n",
    "plt.show()"
   ]
  },
  {
   "cell_type": "code",
   "execution_count": null,
   "id": "5a2c7222-5a18-4139-8967-7266443557fc",
   "metadata": {},
   "outputs": [],
   "source": []
  }
 ],
 "metadata": {
  "kernelspec": {
   "display_name": "Python 3 (ipykernel)",
   "language": "python",
   "name": "python3"
  },
  "language_info": {
   "codemirror_mode": {
    "name": "ipython",
    "version": 3
   },
   "file_extension": ".py",
   "mimetype": "text/x-python",
   "name": "python",
   "nbconvert_exporter": "python",
   "pygments_lexer": "ipython3",
   "version": "3.10.6"
  }
 },
 "nbformat": 4,
 "nbformat_minor": 5
}
